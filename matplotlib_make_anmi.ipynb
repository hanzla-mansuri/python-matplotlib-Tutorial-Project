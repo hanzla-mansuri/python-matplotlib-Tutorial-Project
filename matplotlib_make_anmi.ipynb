{
 "cells": [
  {
   "cell_type": "code",
   "execution_count": null,
   "metadata": {},
   "outputs": [],
   "source": [
    "import numpy as np\n",
    "# import numpy as np: Imports the NumPy library and aliases it as np.\n",
    "import matplotlib.pyplot as plt\n",
    "# import matplotlib.pyplot as plt: Imports the matplotlib.pyplot module and aliases it as plt.\n",
    "from matplotlib.animation import FuncAnimation\n",
    "# from matplotlib.animation import FuncAnimation: Imports the FuncAnimation class from the matplotlib.animation module.\n",
    "# This class is used to create animations.\n",
    "\n",
    "# Function to update the plot for each frame\n",
    "def update(frame):\n",
    "#  Defines a function named update that takes a single argument frame.\n",
    "#  This function will be called for each frame of the animation.\n",
    "    ax.clear()\n",
    "    # ax.clear(): Clears the previous frame on the plot.\n",
    "    slope = np.tan(np.radians(frame))  # Calculate slope in radians\n",
    "    x = np.linspace(-5, 5, 100)\n",
    "    y = slope * x\n",
    "    ax.plot(x, y, color='blue')\n",
    "    ax.set_xlim(-5, 5)\n",
    "    ax.set_ylim(-5, 5)\n",
    "    ax.set_title(f'Slope: {frame} degrees')\n",
    "\n",
    "# Create a figure and axis\n",
    "fig, ax = plt.subplots()\n",
    "# Creates a new figure (fig) and a set of subplots (ax). Here, we are creating only one subplot.\n",
    "\n",
    "# Create an animation\n",
    "ani = FuncAnimation(fig, update, frames=np.linspace(0, 90, 90), interval=100)\n",
    "# Creates the animation. It takes the figure (fig), the update function (update), a sequence of\n",
    "# values for the frames (angles from 0 to 90 degrees), and the interval between frames in milliseconds.\n",
    "\n",
    "# Save the animation as an mp4 file\n",
    "ani.save('slope_animation.mp4', writer='ffmpeg')\n",
    "#  Saves the animation as an mp4 file named slope_animation.mp4 using the ffmpeg writer.\n",
    "# Make sure ffmpeg is installed on your system to save the animation as an mp4 file.\n",
    "plt.show()\n",
    "# Displays the plot with the animation."
   ]
  },
  {
   "cell_type": "code",
   "execution_count": null,
   "metadata": {},
   "outputs": [],
   "source": [
    "# understanding np.linspace\n",
    "start = 0\n",
    "end = 3\n",
    "num_samples = 3\n",
    "x = np.linspace(start, end, num_samples)\n",
    "print(x)\n",
    "# step size in the spacing of the uniform samples returned by np.linspace is: \n",
    "step = (end - start)/(num_samples-1)\n",
    "print(step)"
   ]
  },
  {
   "cell_type": "code",
   "execution_count": null,
   "metadata": {},
   "outputs": [],
   "source": [
    "# Example using np.linspace\n",
    "time = np.linspace(0, 1, 100)\n",
    "freq = 2 #Hz\n",
    "data = np.sin(2*np.pi*freq*time)\n",
    "\n",
    "fig, ax = plt.subplots(figsize=[8,4])\n",
    "ax.plot(time, data, 'o-', markersize=5)\n",
    "ax.set_xlabel('time [in s]')\n",
    "ax.set_ylabel('amplitude')\n",
    "ax.grid(True, linestyle='dashed', color='gray', linewidth=0.5)  # Specify grid properties\n",
    "fig.savefig('sine_wave.pdf')\n",
    "plt.show()"
   ]
  },
  {
   "cell_type": "code",
   "execution_count": null,
   "metadata": {},
   "outputs": [],
   "source": []
  }
 ],
 "metadata": {
  "kernelspec": {
   "display_name": "Python 3",
   "language": "python",
   "name": "python3"
  },
  "language_info": {
   "name": "python",
   "version": "3.12.3"
  }
 },
 "nbformat": 4,
 "nbformat_minor": 2
}
