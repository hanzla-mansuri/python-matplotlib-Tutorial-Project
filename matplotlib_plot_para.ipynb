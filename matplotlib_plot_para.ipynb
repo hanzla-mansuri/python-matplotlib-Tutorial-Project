{
 "cells": [
  {
   "cell_type": "code",
   "execution_count": null,
   "metadata": {},
   "outputs": [],
   "source": [
    "import matplotlib as mpl\n",
    "# General plot parameters\n",
    "mpl.rcParams['lines.linewidth'] = 1.5\n",
    "mpl.rcParams['lines.linestyle'] = '-'\n",
    "\n",
    "mpl.rcParams['font.family'] = 'DejaVu Sans' # this is also the default\n",
    "mpl.rcParams['font.size'] = 14\n",
    "\n",
    "mpl.rcParams['xtick.major.size'] = 10\n",
    "mpl.rcParams['xtick.major.width'] = 2\n",
    "mpl.rcParams['ytick.major.size'] = 10\n",
    "mpl.rcParams['ytick.major.width'] = 2\n",
    "\n",
    "mpl.rcParams['axes.linewidth'] = 2\n",
    "mpl.rcParams['axes.spines.top'] = False\n",
    "mpl.rcParams['axes.spines.right'] = False\n",
    "\n",
    "# stating multiple params in one line\n",
    "mpl.rcParams.update({\"axes.grid\" : True, \"grid.color\": \"black\", \"grid.alpha\": 0.3, \"grid.linestyle\": \"--\"})"
   ]
  }
 ],
 "metadata": {
  "language_info": {
   "name": "python"
  }
 },
 "nbformat": 4,
 "nbformat_minor": 2
}
