{
 "cells": [
  {
   "cell_type": "markdown",
   "metadata": {},
   "source": [
    "#Covid Data analysis"
   ]
  },
  {
   "cell_type": "code",
   "execution_count": null,
   "metadata": {},
   "outputs": [],
   "source": [
    "import numpy as np\n",
    "import matplotlib.pyplot as plt\n",
    "import csv"
   ]
  },
  {
   "cell_type": "code",
   "execution_count": null,
   "metadata": {},
   "outputs": [],
   "source": [
    "# get a File and view basic data and columns\n",
    "# Path to your CSV file\n",
    "import csv\n",
    "\n",
    "# Open the CSV file\n",
    "with open('WHO-COVID-19-global-data.csv', 'r') as file:\n",
    "    # Create a CSV reader\n",
    "    csv_reader = csv.reader(file)\n",
    "    \n",
    "    # Read the first row\n",
    "    first_row = next(csv_reader)\n",
    "    \n",
    "    # Count the number of columns\n",
    "    num_columns = len(first_row)\n",
    "    \n",
    "    # Print the number of columns\n",
    "    print(f\"Number of columns: {num_columns}\")\n",
    "    print(f\"first row: {first_row}\")\n"
   ]
  },
  {
   "cell_type": "code",
   "execution_count": null,
   "metadata": {},
   "outputs": [],
   "source": [
    "# Lists to store the 'Date_reported' and 'Cumulative_deaths' data\n",
    "dates = []\n",
    "cumulative_deaths = []\n",
    "countries = set()\n",
    "\n",
    "# Open the CSV file\n",
    "with open('WHO-COVID-19-global-data.csv', 'r') as file:\n",
    "    csv_reader = csv.DictReader(file)\n",
    "    \n",
    "    # Iterate over each row in the CSV file\n",
    "    for row in csv_reader:\n",
    "        # Append 'Date_reported' and 'Cumulative_deaths' data to the lists\n",
    "        dates.append(row['Date_reported'])\n",
    "        cumulative_deaths.append(int(row['Cumulative_deaths']))\n",
    "        # Add the country to the set of countries\n",
    "        countries.add(row['Country'])\n",
    "\n",
    "# # Plot 'Date_reported' vs 'Cumulative_deaths'\n",
    "# plt.figure(figsize=(12, 6))\n",
    "# plt.bar(dates, cumulative_deaths, color='skyblue')\n",
    "# plt.xlabel('Date Reported')\n",
    "# plt.ylabel('Cumulative Deaths')\n",
    "# plt.title('Cumulative Deaths Over Time')\n",
    "# plt.xticks(rotation=45)  # Rotate x-axis labels for better readability\n",
    "# plt.grid(True)\n",
    "# plt.tight_layout()\n",
    "# plt.show()\n",
    "print(len(cumulative_deaths))\n",
    "print(\"Unique countries:\", countries)\n",
    "plt.plot(cumulative_deaths,countries)"
   ]
  },
  {
   "cell_type": "code",
   "execution_count": null,
   "metadata": {},
   "outputs": [],
   "source": [
    "# Dictionary to store 'Cumulative_deaths' for each country\n",
    "cumulative_deaths_by_country = {}\n",
    "\n",
    "# Set to store unique countries\n",
    "countries = set()\n",
    "\n",
    "# Open the CSV file\n",
    "with open('WHO-COVID-19-global-data.csv', 'r') as file:\n",
    "    csv_reader = csv.DictReader(file)\n",
    "    \n",
    "    # Iterate over each row in the CSV file\n",
    "    for row in csv_reader:\n",
    "        country = row['Country']\n",
    "        cumulative_deaths = int(row['Cumulative_deaths'])\n",
    "        \n",
    "        # Update cumulative deaths for the country\n",
    "        if country in cumulative_deaths_by_country:\n",
    "            cumulative_deaths_by_country[country] += cumulative_deaths\n",
    "        else:\n",
    "            cumulative_deaths_by_country[country] = cumulative_deaths\n",
    "        \n",
    "        # Add the country to the set of countries\n",
    "        countries.add(country)\n",
    "\n",
    "# Plot bar chart for 'Cumulative_deaths' for each country\n",
    "plt.figure(figsize=(20, 60))\n",
    "plt.bar(cumulative_deaths_by_country.keys(), cumulative_deaths_by_country.values(), color='skyblue')\n",
    "plt.xlabel('Country')\n",
    "plt.ylabel('Cumulative Deaths')\n",
    "plt.title('Cumulative Deaths by Country')\n",
    "plt.xticks(rotation=90)  # Rotate x-axis labels for better readability\n",
    "plt.tight_layout()\n",
    "plt.show()\n"
   ]
  },
  {
   "cell_type": "code",
   "execution_count": null,
   "metadata": {},
   "outputs": [],
   "source": [
    "with open('WHO-COVID-19-global-data.csv','r') as file:\n",
    "    csv_reader = csv.DictReader(file)\n"
   ]
  }
 ],
 "metadata": {
  "kernelspec": {
   "display_name": "Python 3",
   "language": "python",
   "name": "python3"
  },
  "language_info": {
   "codemirror_mode": {
    "name": "ipython",
    "version": 3
   },
   "file_extension": ".py",
   "mimetype": "text/x-python",
   "name": "python",
   "nbconvert_exporter": "python",
   "pygments_lexer": "ipython3",
   "version": "3.12.3"
  }
 },
 "nbformat": 4,
 "nbformat_minor": 2
}
