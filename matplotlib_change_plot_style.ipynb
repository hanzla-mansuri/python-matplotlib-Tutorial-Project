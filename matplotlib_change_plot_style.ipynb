{
 "cells": [
  {
   "cell_type": "code",
   "execution_count": null,
   "metadata": {},
   "outputs": [],
   "source": [
    "import matplotlib.pyplot as plt\n",
    "\n",
    "# Data\n",
    "x = [1, 2, 3, 4, 5]\n",
    "y = [1, 4, 9, 16, 25]\n",
    "\n",
    "# Plot with XKCD style\n",
    "with plt.xkcd():\n",
    "    plt.plot(x, y, 'o-')\n",
    "    plt.xlabel('x')\n",
    "    plt.ylabel('y')\n",
    "    plt.title('XKCD Style Plot')\n",
    "    plt.text(2, 20, '$y=x^2$')\n",
    "    plt.grid(True, linestyle='-', color='gray', linewidth=0.5)  # Specify grid properties\n",
    "\n",
    "plt.show()"
   ]
  },
  {
   "cell_type": "markdown",
   "metadata": {},
   "source": [
    "Yes, there are more built-in styles in Matplotlib apart from the default style and the XKCD style. You can activate these styles using the plt.style.use() function. Some of the available styles include:\n",
    "\n",
    "ggplot: Mimics the style of plots seen in the R programming language's ggplot package.\n",
    "seaborn: Emulates the aesthetic style of the seaborn library.\n",
    "bmh: Minimalistic style with a light gray background.\n",
    "dark_background: Dark background with light lines for easy visibility in low-light environments.\n",
    "fivethirtyeight: Emulates the style of plots seen on the FiveThirtyEight website."
   ]
  },
  {
   "cell_type": "code",
   "execution_count": null,
   "metadata": {},
   "outputs": [],
   "source": [
    "# to know different plot style\n",
    "print(plt.style.available)"
   ]
  },
  {
   "cell_type": "code",
   "execution_count": null,
   "metadata": {},
   "outputs": [],
   "source": [
    "import matplotlib.pyplot as plt\n",
    "\n",
    "# Data\n",
    "x = [1, 2, 3, 4, 5]\n",
    "y = [1, 4, 9, 16, 25]\n",
    "\n",
    "# Plot with XKCD style for only this plot\n",
    "style = 'dark_background'\n",
    "with plt.style.context(style):\n",
    "    plt.plot(x, y, 'o-')\n",
    "    plt.xlabel('X Axis')\n",
    "    plt.ylabel('Y Axis')\n",
    "    plt.title('XKCD Style Plot')\n",
    "    plt.grid(True)\n",
    "plt.show()\n",
    "\n",
    "# the below plot will be made with normal style\n",
    "plt.plot(x, y)\n",
    "plt.xlabel('X Axis')\n",
    "plt.ylabel('Y Axis')\n",
    "plt.title('XKCD Style Plot')\n",
    "plt.grid(True)\n",
    "plt.show()"
   ]
  }
 ],
 "metadata": {
  "language_info": {
   "name": "python"
  }
 },
 "nbformat": 4,
 "nbformat_minor": 2
}
