{
 "cells": [
  {
   "cell_type": "markdown",
   "metadata": {},
   "source": [
    "# Scatter Plot : Fuction plots one dot for each observation"
   ]
  },
  {
   "cell_type": "code",
   "execution_count": null,
   "metadata": {},
   "outputs": [],
   "source": [
    "import matplotlib.pyplot as plt\n",
    "import numpy as np"
   ]
  },
  {
   "cell_type": "markdown",
   "metadata": {},
   "source": [
    "# Simple Plot"
   ]
  },
  {
   "cell_type": "code",
   "execution_count": null,
   "metadata": {},
   "outputs": [],
   "source": [
    "x = np.array([5, 7, 8, 7, 2, 17, 2, 9, 11, 12, 9])\n",
    "y = np.array([99, 86, 87, 88, 111, 103, 87, 94, 77, 85, 86])\n",
    "plt.scatter(x,y, color = 'r')\n",
    "plt.show()"
   ]
  },
  {
   "cell_type": "markdown",
   "metadata": {},
   "source": [
    "# now we will compate 2 plots on same figure"
   ]
  },
  {
   "cell_type": "code",
   "execution_count": null,
   "metadata": {},
   "outputs": [],
   "source": [
    "# Day1 the age and speed of 13 cars\n",
    "x = np.array([5, 7, 8, 7, 2, 17, 2, 9, 11, 12, 9])\n",
    "y = np.array([99, 86, 87, 88, 111, 103, 87, 94, 77, 85, 86])\n",
    "plt.scatter(x,y, color = 'r')\n",
    "# Day 2 The age of Speed of \n",
    "x = np.array([2, 4, 5, 3, 15, 1 ,16, 9, 4, 5, 16, 17, 18])\n",
    "y = np.array([100, 90, 98, 78, 90, 89, 110, 102, 89, 88, 110, 79, 90])\n",
    "plt.scatter(x, y, color = 'y')\n",
    "plt.show()"
   ]
  },
  {
   "cell_type": "markdown",
   "metadata": {},
   "source": [
    "# Play with colors and size, Change color of each dot"
   ]
  },
  {
   "cell_type": "code",
   "execution_count": null,
   "metadata": {},
   "outputs": [],
   "source": [
    "# Day1 the age and speed of 13 cars\n",
    "x = np.array([5, 7, 8, 7, 2, 17, 2, 9, 11, 12, 9])\n",
    "y = np.array([99, 86, 87, 88, 111, 103, 87, 94, 77, 85, 86])\n",
    "colors = (['red','green', 'blue','hotpink','pink', 'black','purple', 'beige', 'cyan','gray','magenta'])\n",
    "size = np.array([1,2,3,4,5,6,7,8,9,10,11])\n",
    "plt.scatter(x,y, color = colors, s=y)\n",
    "\n",
    "# Day 2 The age of Speed of \n",
    "x = np.array([2, 4, 5, 3, 15, 1 ,16, 9, 4, 5, 16, 17, 18])\n",
    "y = np.array([100, 90, 98, 78, 90, 89, 110, 102, 89, 88, 110, 79, 90])\n",
    "plt.scatter(x, y, color = 'b', marker = 'o', s=50)\n",
    "plt.show()"
   ]
  },
  {
   "cell_type": "markdown",
   "metadata": {},
   "source": [
    "# Now we will create color array and spcify a color map in scatter plot"
   ]
  },
  {
   "cell_type": "code",
   "execution_count": null,
   "metadata": {},
   "outputs": [],
   "source": [
    "# Day1 the age and speed of 13 cars\n",
    "x = np.array([5, 7, 8, 7, 2, 17, 2, 9, 11, 12, 9])\n",
    "y = np.array([99, 86, 87, 88, 111, 103, 87, 94, 77, 85, 86])\n",
    "colors = np.arange(0, 1001, 100)\n",
    "plt.scatter(x,y, c = colors, cmap = 'viridis')\n",
    "# you can also include color bar\n",
    "plt.colorbar()\n",
    "plt.show()\n"
   ]
  },
  {
   "cell_type": "markdown",
   "metadata": {},
   "source": [
    "# You can also chagne the size of "
   ]
  },
  {
   "cell_type": "code",
   "execution_count": null,
   "metadata": {},
   "outputs": [],
   "source": [
    "# Day1 the age and speed of 13 cars\n",
    "# Generate random numbers for x and y\n",
    "x = np.random.randint(0, 20, size=10)\n",
    "y = np.random.randint(70, 120, size=10)\n",
    "colors = np.arange(0, 100, 10)\n",
    "sizes = np.arange(1, 11, 1)\n",
    "\n",
    "plt.scatter(x, y, c=colors, s=sizes*20)\n",
    "plt.colorbar()\n",
    "plt.show()"
   ]
  },
  {
   "cell_type": "markdown",
   "metadata": {},
   "source": [
    "# Alpha - Transperancies of the dots "
   ]
  },
  {
   "cell_type": "code",
   "execution_count": null,
   "metadata": {},
   "outputs": [],
   "source": [
    "# Generate random numbers for x and y\n",
    "x = np.random.randint(0, 20, size=10)\n",
    "print(\"Value of X\",x)\n",
    "y = np.random.randint(70, 120, size=10)\n",
    "print(\"Value of y\",y)\n",
    "colors = np.arange(0, 100, 10)\n",
    "print(\"Value of colors\",colors)\n",
    "sizes = np.arange(1, 11, 1)\n",
    "print(\"Value of Sizes\",sizes)\n",
    "\n",
    "plt.scatter(x, y, c=colors, s=sizes*20,alpha=0.25)\n",
    "plt.colorbar()\n",
    "plt.show()"
   ]
  },
  {
   "cell_type": "markdown",
   "metadata": {},
   "source": [
    "# Combine Color"
   ]
  },
  {
   "cell_type": "code",
   "execution_count": 53,
   "metadata": {},
   "outputs": [
    {
     "name": "stdout",
     "output_type": "stream",
     "text": [
      "Value of X [36 16 88 42 69 71 45  0 41 90]\n",
      "Value of y [81 97 16  7 76 63 85  4 78 55]\n",
      "Value of colors [25 72 21 97 16  1 11 58 85  6]\n",
      "Value of Sizes [91 22 21 79 14 41 91 83 37 98]\n"
     ]
    },
    {
     "data": {
      "image/png": "[encoded data removed]",
      "text/plain": [
       "<Figure size 640x480 with 2 Axes>"
      ]
     },
     "metadata": {},
     "output_type": "display_data"
    }
   ],
   "source": [
    "# Generate random numbers for x and y\n",
    "x = np.random.randint(100, size=10)\n",
    "print(\"Value of X\",x)\n",
    "y = np.random.randint(100, size=10)\n",
    "print(\"Value of y\",y)\n",
    "colors = np.random.randint(100, size=10)\n",
    "print(\"Value of colors\",colors)\n",
    "sizes = np.random.randint(100, size=10)\n",
    "print(\"Value of Sizes\",sizes)\n",
    "\n",
    "plt.scatter(x, y, c=colors, s=sizes*10,alpha=0.5, cmap='nipy_spectral')\n",
    "plt.colorbar()\n",
    "plt.show()"
   ]
  }
 ],
 "metadata": {
  "kernelspec": {
   "display_name": "Python 3",
   "language": "python",
   "name": "python3"
  },
  "language_info": {
   "codemirror_mode": {
    "name": "ipython",
    "version": 3
   },
   "file_extension": ".py",
   "mimetype": "text/x-python",
   "name": "python",
   "nbconvert_exporter": "python",
   "pygments_lexer": "ipython3",
   "version": "3.12.3"
  }
 },
 "nbformat": 4,
 "nbformat_minor": 2
}
